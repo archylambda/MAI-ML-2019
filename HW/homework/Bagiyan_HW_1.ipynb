{
 "cells": [
  {
   "cell_type": "code",
   "execution_count": 1,
   "metadata": {},
   "outputs": [
    {
     "name": "stdout",
     "output_type": "stream",
     "text": [
      "[[[ 29  78 110]\n",
      "  [ 29  78 110]\n",
      "  [ 29  78 110]\n",
      "  ...\n",
      "  [ 51 103 143]\n",
      "  [ 50 102 142]\n",
      "  [ 49 101 141]]\n",
      "\n",
      " [[ 29  78 110]\n",
      "  [ 29  78 110]\n",
      "  [ 30  79 111]\n",
      "  ...\n",
      "  [ 51 103 143]\n",
      "  [ 50 102 142]\n",
      "  [ 50 102 142]]\n",
      "\n",
      " [[ 30  79 111]\n",
      "  [ 30  79 111]\n",
      "  [ 30  79 111]\n",
      "  ...\n",
      "  [ 51 103 143]\n",
      "  [ 50 102 142]\n",
      "  [ 50 102 142]]\n",
      "\n",
      " ...\n",
      "\n",
      " [[ 16  30  42]\n",
      "  [ 16  30  42]\n",
      "  [ 16  30  42]\n",
      "  ...\n",
      "  [  0   0   0]\n",
      "  [  0   0   0]\n",
      "  [  0   0   0]]\n",
      "\n",
      " [[ 15  29  41]\n",
      "  [ 15  29  41]\n",
      "  [ 15  29  41]\n",
      "  ...\n",
      "  [  0   0   0]\n",
      "  [  0   0   0]\n",
      "  [  0   0   0]]\n",
      "\n",
      " [[ 15  29  41]\n",
      "  [ 15  29  41]\n",
      "  [ 17  29  41]\n",
      "  ...\n",
      "  [  0   0   0]\n",
      "  [  0   0   0]\n",
      "  [  0   0   0]]]\n"
     ]
    }
   ],
   "source": [
    "import cv2\n",
    "from matplotlib import pyplot as plt\n",
    "im = cv2.imread(\"images/big.jpg\")\n",
    "plt.imshow(im)\n",
    "print(im)"
   ]
  },
  {
   "cell_type": "code",
   "execution_count": 2,
   "metadata": {},
   "outputs": [
    {
     "name": "stdout",
     "output_type": "stream",
     "text": [
      "Size = 187500\n"
     ]
    }
   ],
   "source": [
    "#получение размера изображения\n",
    "\n",
    "size = im.shape[0]*im.shape[1]\n",
    "print(\"Size = {}\".format(size))"
   ]
  },
  {
   "cell_type": "code",
   "execution_count": 30,
   "metadata": {},
   "outputs": [
    {
     "name": "stdout",
     "output_type": "stream",
     "text": [
      "Среднее значение в 3-ем канале = 128.69120533333333\n"
     ]
    }
   ],
   "source": [
    "import numpy as np\n",
    "\n",
    "#Средние значения по каналам\n",
    "meanChanel1 = im[:,:,0].mean()\n",
    "meanChanel2 = im[:,:,1].mean()\n",
    "meanChanel3 = im[:,:,2].mean()\n",
    "\n",
    "print(\"Среднее значение в 3-ем канале = {}\".format(meanChanel3))\n"
   ]
  },
  {
   "cell_type": "code",
   "execution_count": 28,
   "metadata": {},
   "outputs": [
    {
     "data": {
      "text/plain": [
       "38.29606241503853"
      ]
     },
     "execution_count": 28,
     "metadata": {},
     "output_type": "execute_result"
    }
   ],
   "source": [
    "#среднее квадратическое отклонение по каналам\n",
    "std1 = im[:,:,0].std()\n",
    "std2 = im[:,:,1].std()\n",
    "std3 = im[:,:,2].std()\n",
    "\n",
    "std1"
   ]
  },
  {
   "cell_type": "code",
   "execution_count": 5,
   "metadata": {},
   "outputs": [
    {
     "name": "stdout",
     "output_type": "stream",
     "text": [
      "192\n"
     ]
    }
   ],
   "source": [
    "#поменять каналы местами\n",
    "revIm = im[:,:,::-1]\n",
    "print(revIm[0,345,0])"
   ]
  },
  {
   "cell_type": "code",
   "execution_count": 6,
   "metadata": {},
   "outputs": [],
   "source": [
    "np.random.seed(7964)\n",
    "A = np.random.randint(0,8,size=(500,500))"
   ]
  },
  {
   "cell_type": "code",
   "execution_count": 42,
   "metadata": {},
   "outputs": [
    {
     "data": {
      "text/plain": [
       "500"
      ]
     },
     "execution_count": 42,
     "metadata": {},
     "output_type": "execute_result"
    }
   ],
   "source": [
    "A==7\n",
    "(((A==7).sum(axis=(0)))>0).sum()"
   ]
  },
  {
   "cell_type": "code",
   "execution_count": 8,
   "metadata": {},
   "outputs": [
    {
     "name": "stdout",
     "output_type": "stream",
     "text": [
      "(array([  0,   0,   0, ..., 499, 499, 499]), array([  2,   5,   6, ..., 493, 495, 499]))\n",
      "62383552\n"
     ]
    }
   ],
   "source": [
    "#сумма индексов ячеек, значени которых меньше 4\n",
    "indArr1 = (A<4).nonzero()\n",
    "print(indArr1)\n",
    "res1 = indArr1[0].sum() + indArr1[1].sum()\n",
    "print(res1)"
   ]
  },
  {
   "cell_type": "code",
   "execution_count": 9,
   "metadata": {},
   "outputs": [
    {
     "name": "stdout",
     "output_type": "stream",
     "text": [
      "15541519\n"
     ]
    }
   ],
   "source": [
    "#сумма индексов ячеек, значени которых меньше 4 и больше 2\n",
    "\n",
    "indArr2 = ((A<4)*(A>2)).nonzero()\n",
    "res2 = indArr2[0].sum() + indArr2[1].sum()\n",
    "print(res2)"
   ]
  },
  {
   "cell_type": "code",
   "execution_count": 10,
   "metadata": {},
   "outputs": [
    {
     "name": "stdout",
     "output_type": "stream",
     "text": [
      "93516\n"
     ]
    }
   ],
   "source": [
    "#сумма всех значений по индексам из предыдущего задания\n",
    "print(A[indArr2].sum())"
   ]
  },
  {
   "cell_type": "markdown",
   "metadata": {},
   "source": [
    "## Axis in numpy\n",
    "![title](images/axes.jpg)"
   ]
  },
  {
   "cell_type": "code",
   "execution_count": 24,
   "metadata": {},
   "outputs": [
    {
     "data": {
      "text/plain": [
       "3500"
      ]
     },
     "execution_count": 24,
     "metadata": {},
     "output_type": "execute_result"
    }
   ],
   "source": [
    "#максимальное значение в каждом столбце массива\n",
    "A.max(axis=0).sum()"
   ]
  },
  {
   "cell_type": "code",
   "execution_count": 12,
   "metadata": {},
   "outputs": [],
   "source": [
    "x = np.arange(1,501,1)"
   ]
  },
  {
   "cell_type": "code",
   "execution_count": 25,
   "metadata": {},
   "outputs": [
    {
     "data": {
      "text/plain": [
       "218833635"
      ]
     },
     "execution_count": 25,
     "metadata": {},
     "output_type": "execute_result"
    }
   ],
   "source": [
    "#скалярное произведение\n",
    "A.dot(x).sum()"
   ]
  },
  {
   "cell_type": "code",
   "execution_count": 14,
   "metadata": {},
   "outputs": [],
   "source": [
    "np.random.seed(33)\n",
    "w = np.random.randint(0,8,size=(5,500))"
   ]
  },
  {
   "cell_type": "code",
   "execution_count": 26,
   "metadata": {},
   "outputs": [
    {
     "data": {
      "text/plain": [
       "15215957"
      ]
     },
     "execution_count": 26,
     "metadata": {},
     "output_type": "execute_result"
    }
   ],
   "source": [
    "#массив A на массиц w транспонированный\n",
    "(A@w.T).sum()"
   ]
  },
  {
   "cell_type": "code",
   "execution_count": 27,
   "metadata": {},
   "outputs": [
    {
     "data": {
      "text/plain": [
       "3045726"
      ]
     },
     "execution_count": 27,
     "metadata": {},
     "output_type": "execute_result"
    }
   ],
   "source": [
    "#массив A на массиц w поэлементно\n",
    "c = np.tile(w,(100,1))\n",
    "(A*c).sum()"
   ]
  },
  {
   "cell_type": "code",
   "execution_count": 168,
   "metadata": {},
   "outputs": [
    {
     "name": "stdout",
     "output_type": "stream",
     "text": [
      "[[1 4 9]\n",
      " [1 4 9]\n",
      " [1 4 9]]\n"
     ]
    }
   ],
   "source": [
    "# arr3d = [[[1,2,3],[1,2,3],[1,2,3]],\n",
    "#        [[1,2,3],[1,2,3],[1,2,3]],\n",
    "#        [[1,2,3],[1,2,3],[1,2,3]]]\n",
    "# nparr3d = np.array(arr3d)\n",
    "# arr2d = [[1,2,3],\n",
    "#        [1,2,3],\n",
    "#        [1,2,3]]\n",
    "# nparr2d = np.array(arr2d)\n",
    "\n",
    "# nparr2d.max(axis=0)\n",
    "\n",
    "# x = np.array([[1,2,3],\n",
    "#      [1,2,3],\n",
    "#      [1,2,3]])\n",
    "# y = np.array([1,2,3])\n",
    "# print(x*x)"
   ]
  }
 ],
 "metadata": {
  "kernelspec": {
   "display_name": "Python 3",
   "language": "python",
   "name": "python3"
  },
  "language_info": {
   "codemirror_mode": {
    "name": "ipython",
    "version": 3
   },
   "file_extension": ".py",
   "mimetype": "text/x-python",
   "name": "python",
   "nbconvert_exporter": "python",
   "pygments_lexer": "ipython3",
   "version": "3.7.4"
  }
 },
 "nbformat": 4,
 "nbformat_minor": 2
}
