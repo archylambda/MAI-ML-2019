{
 "cells": [
  {
   "cell_type": "code",
   "execution_count": 355,
   "metadata": {},
   "outputs": [],
   "source": [
    "# This Python 3 environment comes with many helpful analytics libraries installed\n",
    "# It is defined by the kaggle/python docker image: https://github.com/kaggle/docker-python\n",
    "# For example, here's several helpful packages to load in \n",
    "\n",
    "import numpy as np # linear algebra\n",
    "import pandas as pd # data processing, CSV file I/O (e.g. pd.read_csv)\n",
    "\n",
    "# Input data files are available in the \"../input/\" directory.\n",
    "# For example, running this (by clicking run or pressing Shift+Enter) will list all files under the input directory\n",
    "\n",
    "# import os\n",
    "# for dirname, _, filenames in os.walk('/kaggle/input'):\n",
    "#     for filename in filenames:\n",
    "#         print(os.path.join(dirname, filename))\n",
    "\n",
    "from sklearn.model_selection import cross_val_score, cross_validate, train_test_split\n",
    "from sklearn.linear_model import LogisticRegression\n",
    "import sklearn.metrics as sm\n",
    "# Any results you write to the current directory are saved as output."
   ]
  },
  {
   "cell_type": "code",
   "execution_count": 356,
   "metadata": {},
   "outputs": [],
   "source": [
    "#Считаем данные\n",
    "sample= pd.read_csv(\"sample_submission.csv\")\n",
    "train= pd.read_csv(\"train.csv\")\n",
    "test= pd.read_csv(\"test.csv\")"
   ]
  },
  {
   "cell_type": "code",
   "execution_count": 357,
   "metadata": {},
   "outputs": [],
   "source": [
    "cols = train.columns\n",
    "train_columns = cols[1:-2]\n",
    "target_columns = cols[-1]\n",
    "###\n",
    "train_columns = ['Pclass','Sex','Age','SibSp','Parch','Fare','Embarked']"
   ]
  },
  {
   "cell_type": "code",
   "execution_count": 358,
   "metadata": {},
   "outputs": [],
   "source": [
    "#выкидываем строки без информации о возрасте из обучающей выборки\n",
    "train_first = train[train_columns].dropna()\n",
    "#train_first = train[train_columns].copy()\n",
    "\n",
    "target_first = train[target_columns]\n",
    "target_first = target_first[train_first.index]"
   ]
  },
  {
   "cell_type": "code",
   "execution_count": 359,
   "metadata": {},
   "outputs": [],
   "source": [
    "#поля пола и пути назначения переведем в целые числа\n",
    "sex_map = {'male' : 1, 'female': 2}\n",
    "emb_map = {'C':1, 'Q':2,'S':3}\n",
    "train_first['Sex'] = train['Sex'].map(sex_map)\n",
    "train_first['Embarked'] = train['Embarked'].map(emb_map)\n",
    "\n",
    "\n",
    "# for col in train_first.columns:\n",
    "#     train_first[col].fillna(train_first[col].mean(), inplace=True)\n",
    "\n",
    "train_first['Sex'].fillna(train_first['Sex'].mean(), inplace=True)\n",
    "train_first['Embarked'].fillna(train_first['Embarked'].mean(), inplace=True)\n",
    "train_first['Fare'].fillna(train_first['Fare'].mean(), inplace=True)"
   ]
  },
  {
   "cell_type": "code",
   "execution_count": 360,
   "metadata": {},
   "outputs": [],
   "source": [
    "#нормализуем данные из тренировочной выборки\n",
    "\n",
    "train_first_scaled = (train_first - train_first.min(axis=0))/(train_first.max(axis=0) - train_first.min(axis=0))\n",
    "#train_first_scaled = (train_first - train_first.mean(axis=0))/train_first.std(axis=0)\n"
   ]
  },
  {
   "cell_type": "code",
   "execution_count": 361,
   "metadata": {},
   "outputs": [],
   "source": [
    "# разделим выборку\n",
    "#X_train, X_test, y_train, y_test = train_test_split(train_first_scaled, target_first, test_size=0.2, random_state=42)"
   ]
  },
  {
   "cell_type": "code",
   "execution_count": 362,
   "metadata": {},
   "outputs": [
    {
     "name": "stderr",
     "output_type": "stream",
     "text": [
      "c:\\users\\артём\\appdata\\local\\programs\\python\\python37-32\\lib\\site-packages\\sklearn\\linear_model\\logistic.py:432: FutureWarning: Default solver will be changed to 'lbfgs' in 0.22. Specify a solver to silence this warning.\n",
      "  FutureWarning)\n"
     ]
    },
    {
     "data": {
      "text/plain": [
       "LogisticRegression(C=1.0, class_weight=None, dual=False, fit_intercept=True,\n",
       "                   intercept_scaling=1, l1_ratio=None, max_iter=100,\n",
       "                   multi_class='warn', n_jobs=None, penalty='l2',\n",
       "                   random_state=None, solver='warn', tol=0.0001, verbose=0,\n",
       "                   warm_start=False)"
      ]
     },
     "execution_count": 362,
     "metadata": {},
     "output_type": "execute_result"
    }
   ],
   "source": [
    "#используем логистическую регрессию\n",
    "\n",
    "logreg_model = LogisticRegression()\n",
    "logreg_model.fit(train_first_scaled, target_first)"
   ]
  },
  {
   "cell_type": "code",
   "execution_count": null,
   "metadata": {},
   "outputs": [],
   "source": [
    "from tqdm import tqdm\n",
    "\n",
    "MAX_EMPTY_ATTEMPTS = 10000\n",
    "\n",
    "C_values = np.arange(1, 10000, 10)\n",
    "\n",
    "best_score = 0\n",
    "best_param = 0.1\n",
    "best_model = None\n",
    "\n",
    "empty_attempts = 0\n",
    "for C in tqdm(C_values):\n",
    "    model = LogisticRegression(C=C)\n",
    "    score = np.mean(cross_val_score(model, train_first_scaled, target_first, cv=5, scoring=\"accuracy\"))\n",
    "    \n",
    "    if score > best_score:\n",
    "        best_score = score\n",
    "        best_model = model\n",
    "        best_param = C\n",
    "        \n",
    "        empty_attempts = 0 \n",
    "    else:\n",
    "        empty_attempts += 1\n",
    "        \n",
    "    if empty_attempts == MAX_EMPTY_ATTEMPTS:\n",
    "        print(\"Early finish\")\n",
    "        break\n",
    "        \n",
    "    \n",
    "    \n",
    "print(f\"Hyperparameters selection finished, best score - {best_score:0.4f} at C={best_param}\")\n",
    "best_model.fit(train_first_scaled, target_first)"
   ]
  },
  {
   "cell_type": "code",
   "execution_count": 354,
   "metadata": {},
   "outputs": [
    {
     "name": "stdout",
     "output_type": "stream",
     "text": [
      "{'penalty': 'l2', 'dual': False, 'tol': 0.0001, 'C': 1.0, 'fit_intercept': True, 'intercept_scaling': 1, 'class_weight': None, 'random_state': None, 'solver': 'warn', 'max_iter': 100, 'multi_class': 'warn', 'verbose': 0, 'warm_start': False, 'n_jobs': None, 'l1_ratio': None, 'classes_': array([0, 1], dtype=int64), 'coef_': array([[-1.71450955,  2.40062718, -1.6812256 , -0.77623021,  0.45741052,\n",
      "         0.45455956, -0.41066761]]), 'intercept_': array([0.62357234]), 'n_iter_': array([5], dtype=int32)}\n",
      "{'penalty': 'l2', 'dual': False, 'tol': 0.0001, 'C': 1, 'fit_intercept': True, 'intercept_scaling': 1, 'class_weight': None, 'random_state': None, 'solver': 'warn', 'max_iter': 100, 'multi_class': 'warn', 'verbose': 0, 'warm_start': False, 'n_jobs': None, 'l1_ratio': None, 'classes_': array([0, 1], dtype=int64), 'coef_': array([[-1.71450955,  2.40062718, -1.6812256 , -0.77623021,  0.45741052,\n",
      "         0.45455956, -0.41066761]]), 'intercept_': array([0.62357234]), 'n_iter_': array([5], dtype=int32)}\n"
     ]
    }
   ],
   "source": [
    "print(vars(logreg_model))\n",
    "print(vars(best_model))"
   ]
  },
  {
   "cell_type": "code",
   "execution_count": 363,
   "metadata": {},
   "outputs": [
    {
     "name": "stdout",
     "output_type": "stream",
     "text": [
      "              precision    recall  f1-score   support\n",
      "\n",
      "           0    0.83784   0.78481   0.81046        79\n",
      "           1    0.73016   0.79310   0.76033        58\n",
      "\n",
      "    accuracy                        0.78832       137\n",
      "   macro avg    0.78400   0.78896   0.78539       137\n",
      "weighted avg    0.79225   0.78832   0.78924       137\n",
      "\n"
     ]
    }
   ],
   "source": [
    "#формируем предсказания для тестовой выборки и оценеваем ошибки\n",
    "preds = logreg_model.predict(X_test)\n",
    "\n",
    "print(sm.classification_report(y_test, preds, digits=5))\n"
   ]
  },
  {
   "cell_type": "code",
   "execution_count": 365,
   "metadata": {},
   "outputs": [
    {
     "name": "stderr",
     "output_type": "stream",
     "text": [
      "c:\\users\\артём\\appdata\\local\\programs\\python\\python37-32\\lib\\site-packages\\sklearn\\linear_model\\logistic.py:432: FutureWarning: Default solver will be changed to 'lbfgs' in 0.22. Specify a solver to silence this warning.\n",
      "  FutureWarning)\n",
      "c:\\users\\артём\\appdata\\local\\programs\\python\\python37-32\\lib\\site-packages\\sklearn\\linear_model\\logistic.py:432: FutureWarning: Default solver will be changed to 'lbfgs' in 0.22. Specify a solver to silence this warning.\n",
      "  FutureWarning)\n",
      "c:\\users\\артём\\appdata\\local\\programs\\python\\python37-32\\lib\\site-packages\\sklearn\\linear_model\\logistic.py:432: FutureWarning: Default solver will be changed to 'lbfgs' in 0.22. Specify a solver to silence this warning.\n",
      "  FutureWarning)\n",
      "c:\\users\\артём\\appdata\\local\\programs\\python\\python37-32\\lib\\site-packages\\sklearn\\linear_model\\logistic.py:432: FutureWarning: Default solver will be changed to 'lbfgs' in 0.22. Specify a solver to silence this warning.\n",
      "  FutureWarning)\n",
      "c:\\users\\артём\\appdata\\local\\programs\\python\\python37-32\\lib\\site-packages\\sklearn\\linear_model\\logistic.py:432: FutureWarning: Default solver will be changed to 'lbfgs' in 0.22. Specify a solver to silence this warning.\n",
      "  FutureWarning)\n"
     ]
    },
    {
     "name": "stdout",
     "output_type": "stream",
     "text": [
      "5 folds accuracy: avg - 0.78, std - 0.03 - [0.8115942  0.73188406 0.77372263 0.81617647 0.75735294]\n"
     ]
    },
    {
     "name": "stderr",
     "output_type": "stream",
     "text": [
      "c:\\users\\артём\\appdata\\local\\programs\\python\\python37-32\\lib\\site-packages\\sklearn\\linear_model\\logistic.py:432: FutureWarning: Default solver will be changed to 'lbfgs' in 0.22. Specify a solver to silence this warning.\n",
      "  FutureWarning)\n",
      "c:\\users\\артём\\appdata\\local\\programs\\python\\python37-32\\lib\\site-packages\\sklearn\\linear_model\\logistic.py:432: FutureWarning: Default solver will be changed to 'lbfgs' in 0.22. Specify a solver to silence this warning.\n",
      "  FutureWarning)\n",
      "c:\\users\\артём\\appdata\\local\\programs\\python\\python37-32\\lib\\site-packages\\sklearn\\linear_model\\logistic.py:432: FutureWarning: Default solver will be changed to 'lbfgs' in 0.22. Specify a solver to silence this warning.\n",
      "  FutureWarning)\n",
      "c:\\users\\артём\\appdata\\local\\programs\\python\\python37-32\\lib\\site-packages\\sklearn\\linear_model\\logistic.py:432: FutureWarning: Default solver will be changed to 'lbfgs' in 0.22. Specify a solver to silence this warning.\n",
      "  FutureWarning)\n",
      "c:\\users\\артём\\appdata\\local\\programs\\python\\python37-32\\lib\\site-packages\\sklearn\\linear_model\\logistic.py:432: FutureWarning: Default solver will be changed to 'lbfgs' in 0.22. Specify a solver to silence this warning.\n",
      "  FutureWarning)\n"
     ]
    },
    {
     "name": "stdout",
     "output_type": "stream",
     "text": [
      "5 folds precision: avg - 0.74, std - 0.05 - [0.76785714 0.67272727 0.72222222 0.8125     0.73913043]\n"
     ]
    },
    {
     "name": "stderr",
     "output_type": "stream",
     "text": [
      "c:\\users\\артём\\appdata\\local\\programs\\python\\python37-32\\lib\\site-packages\\sklearn\\linear_model\\logistic.py:432: FutureWarning: Default solver will be changed to 'lbfgs' in 0.22. Specify a solver to silence this warning.\n",
      "  FutureWarning)\n",
      "c:\\users\\артём\\appdata\\local\\programs\\python\\python37-32\\lib\\site-packages\\sklearn\\linear_model\\logistic.py:432: FutureWarning: Default solver will be changed to 'lbfgs' in 0.22. Specify a solver to silence this warning.\n",
      "  FutureWarning)\n",
      "c:\\users\\артём\\appdata\\local\\programs\\python\\python37-32\\lib\\site-packages\\sklearn\\linear_model\\logistic.py:432: FutureWarning: Default solver will be changed to 'lbfgs' in 0.22. Specify a solver to silence this warning.\n",
      "  FutureWarning)\n",
      "c:\\users\\артём\\appdata\\local\\programs\\python\\python37-32\\lib\\site-packages\\sklearn\\linear_model\\logistic.py:432: FutureWarning: Default solver will be changed to 'lbfgs' in 0.22. Specify a solver to silence this warning.\n",
      "  FutureWarning)\n",
      "c:\\users\\артём\\appdata\\local\\programs\\python\\python37-32\\lib\\site-packages\\sklearn\\linear_model\\logistic.py:432: FutureWarning: Default solver will be changed to 'lbfgs' in 0.22. Specify a solver to silence this warning.\n",
      "  FutureWarning)\n"
     ]
    },
    {
     "name": "stdout",
     "output_type": "stream",
     "text": [
      "5 folds f1: avg - 0.72, std - 0.04 - [0.76785714 0.66666667 0.71559633 0.75728155 0.67326733]\n"
     ]
    }
   ],
   "source": [
    "cv_acc_scoring = cross_val_score(logreg_model, train_first_scaled, target_first, cv=5, scoring=\"accuracy\")\n",
    "\n",
    "print(f\"5 folds accuracy: avg - {np.mean(cv_acc_scoring):.2f}, std - {np.std(cv_acc_scoring):.2f} - {cv_acc_scoring}\")\n",
    "\n",
    "\n",
    "cv_prec_scoring = cross_val_score(logreg_model, train_first_scaled, target_first, cv=5, scoring=\"precision\")\n",
    "\n",
    "print(f\"5 folds precision: avg - {np.mean(cv_prec_scoring):.2f}, std - {np.std(cv_prec_scoring):.2f} - {cv_prec_scoring:}\")\n",
    "\n",
    "cv_f_scoring = cross_val_score(logreg_model, train_first_scaled, target_first, cv=5, scoring=\"f1\")\n",
    "\n",
    "print(f\"5 folds f1: avg - {np.mean(cv_f_scoring):.2f}, std - {np.std(cv_f_scoring):.2f} - {cv_f_scoring:}\")"
   ]
  },
  {
   "cell_type": "markdown",
   "metadata": {},
   "source": [
    "#### Стандартная нормализация, выкидывание нан столбцов из обучающей выборки\n",
    "    5 folds accuracy: avg - 0.78, std - 0.03 - [0.8115942  0.73188406 0.77372263 0.80882353 0.76470588]\n",
    "    5 folds precision: avg - 0.74, std - 0.04 - [0.76785714 0.67272727 0.73076923 0.79591837 0.73469388]\n",
    "    5 folds f1: avg - 0.72, std - 0.04 - [0.76785714 0.66666667 0.71028037 0.75       0.69230769]]\n",
    "    \n",
    "#### Стандартная нормализация, кроме возраста, для которого минимаксная, выкидывание нан столбцов из обучающей выборки\n",
    "    5 folds accuracy: avg - 0.77, std - 0.03 - [0.80434783 0.72463768 0.77372263 0.80147059 0.76470588]\n",
    "    5 folds precision: avg - 0.74, std - 0.04 - [0.75438596 0.66666667 0.73076923 0.78       0.74468085]\n",
    "    5 folds f1: avg - 0.71, std - 0.04 - [0.76106195 0.65454545 0.71028037 0.74285714 0.68627451]\n",
    "#### Минисаксная нормализация, выкидывание нан столбцов из обучающей выборки   \n",
    "    5 folds accuracy: avg - 0.78, std - 0.03 - [0.8115942  0.73188406 0.77372263 0.81617647 0.75735294]\n",
    "    5 folds precision: avg - 0.74, std - 0.05 - [0.76785714 0.67272727 0.72222222 0.8125     0.73913043]\n",
    "    5 folds f1: avg - 0.72, std - 0.04 - [0.76785714 0.66666667 0.71559633 0.75728155 0.67326733]\n",
    "    \n",
    "#### Стандартная нормализация, замена NaN столбцов средним значением\n",
    "    5 folds accuracy: avg - 0.78, std - 0.03 - [0.83529412 0.76470588 0.77647059 0.77647059 0.75882353]\n",
    "    5 folds precision: avg - 0.73, std - 0.03 - [0.79365079 0.69230769 0.71428571 0.72131148 0.71428571]\n",
    "    5 folds f1: avg - 0.71, std - 0.04 - [0.78125    0.69230769 0.703125   0.6984127  0.66115702]\n",
    "    \n",
    "#### Минимаксная нормализация, замена NaN столбцов средним значением  \n",
    "\n",
    "    5 folds accuracy: avg - 0.78, std - 0.03 - [0.83529412 0.76470588 0.77647059 0.77647059 0.75882353]\n",
    "    5 folds precision: avg - 0.73, std - 0.03 - [0.79365079 0.69230769 0.71428571 0.72131148 0.71428571]\n",
    "    5 folds f1: avg - 0.71, std - 0.04 - [0.78125    0.69230769 0.703125   0.6984127  0.66115702]"
   ]
  },
  {
   "cell_type": "markdown",
   "metadata": {},
   "source": [
    "#### Стандартная нормализация, замена NaN столбцов средним значением, 1 2 3, 1 2\n",
    "    5 folds accuracy: avg - 0.78, std - 0.03 - [0.8115942  0.73188406 0.77372263 0.81617647 0.75735294]\n",
    "    5 folds precision: avg - 0.74, std - 0.05 - [0.76785714 0.67272727 0.72222222 0.8125     0.73913043]\n",
    "    5 folds f1: avg - 0.72, std - 0.04 - [0.76785714 0.66666667 0.71559633 0.75728155 0.67326733]\n"
   ]
  },
  {
   "cell_type": "code",
   "execution_count": 150,
   "metadata": {},
   "outputs": [],
   "source": [
    "# # проведем те же манипуляции с тестовыми данными\n",
    "\n",
    "# test_first = test[train_columns].copy()\n",
    "\n",
    "# test_first['Sex'] = test_first['Sex'].map(sex_map)\n",
    "# test_first['Embarked'] = test_first['Embarked'].map(emb_map)\n",
    "\n",
    "# test_first['Age'].fillna(test_first['Age'].mean(), inplace=True)\n",
    "# test_first['Embarked'].fillna(test_first['Embarked'].mean(), inplace=True)\n",
    "\n",
    "# test_first_scaled = (test_first - test_first.mean(axis=0))/test_first.std(axis=0)\n",
    "# #для возраста используем минимаксную нормализацию\n",
    "# test_first_scaled['Age'] = (test_first['Age'] - test_first['Age'].min())/(test_first['Age'].max() - test_first['Age'].min())"
   ]
  },
  {
   "cell_type": "code",
   "execution_count": 140,
   "metadata": {},
   "outputs": [
    {
     "ename": "ValueError",
     "evalue": "Length of values does not match length of index",
     "output_type": "error",
     "traceback": [
      "\u001b[1;31m---------------------------------------------------------------------------\u001b[0m",
      "\u001b[1;31mValueError\u001b[0m                                Traceback (most recent call last)",
      "\u001b[1;32m<ipython-input-140-447523971631>\u001b[0m in \u001b[0;36m<module>\u001b[1;34m\u001b[0m\n\u001b[0;32m      4\u001b[0m \u001b[1;31m#записываем результат\u001b[0m\u001b[1;33m\u001b[0m\u001b[1;33m\u001b[0m\u001b[1;33m\u001b[0m\u001b[0m\n\u001b[0;32m      5\u001b[0m \u001b[1;33m\u001b[0m\u001b[0m\n\u001b[1;32m----> 6\u001b[1;33m \u001b[0msample\u001b[0m\u001b[1;33m[\u001b[0m\u001b[1;34m'Survived'\u001b[0m\u001b[1;33m]\u001b[0m \u001b[1;33m=\u001b[0m \u001b[0mpreds\u001b[0m\u001b[1;33m\u001b[0m\u001b[1;33m\u001b[0m\u001b[0m\n\u001b[0m\u001b[0;32m      7\u001b[0m \u001b[0msample\u001b[0m\u001b[1;33m.\u001b[0m\u001b[0mto_csv\u001b[0m\u001b[1;33m(\u001b[0m\u001b[1;34m'first_solution.csv'\u001b[0m\u001b[1;33m,\u001b[0m \u001b[0mindex\u001b[0m\u001b[1;33m=\u001b[0m\u001b[1;32mFalse\u001b[0m\u001b[1;33m)\u001b[0m\u001b[1;33m\u001b[0m\u001b[1;33m\u001b[0m\u001b[0m\n",
      "\u001b[1;32mc:\\users\\артём\\appdata\\local\\programs\\python\\python37-32\\lib\\site-packages\\pandas\\core\\frame.py\u001b[0m in \u001b[0;36m__setitem__\u001b[1;34m(self, key, value)\u001b[0m\n\u001b[0;32m   3485\u001b[0m         \u001b[1;32melse\u001b[0m\u001b[1;33m:\u001b[0m\u001b[1;33m\u001b[0m\u001b[1;33m\u001b[0m\u001b[0m\n\u001b[0;32m   3486\u001b[0m             \u001b[1;31m# set column\u001b[0m\u001b[1;33m\u001b[0m\u001b[1;33m\u001b[0m\u001b[1;33m\u001b[0m\u001b[0m\n\u001b[1;32m-> 3487\u001b[1;33m             \u001b[0mself\u001b[0m\u001b[1;33m.\u001b[0m\u001b[0m_set_item\u001b[0m\u001b[1;33m(\u001b[0m\u001b[0mkey\u001b[0m\u001b[1;33m,\u001b[0m \u001b[0mvalue\u001b[0m\u001b[1;33m)\u001b[0m\u001b[1;33m\u001b[0m\u001b[1;33m\u001b[0m\u001b[0m\n\u001b[0m\u001b[0;32m   3488\u001b[0m \u001b[1;33m\u001b[0m\u001b[0m\n\u001b[0;32m   3489\u001b[0m     \u001b[1;32mdef\u001b[0m \u001b[0m_setitem_slice\u001b[0m\u001b[1;33m(\u001b[0m\u001b[0mself\u001b[0m\u001b[1;33m,\u001b[0m \u001b[0mkey\u001b[0m\u001b[1;33m,\u001b[0m \u001b[0mvalue\u001b[0m\u001b[1;33m)\u001b[0m\u001b[1;33m:\u001b[0m\u001b[1;33m\u001b[0m\u001b[1;33m\u001b[0m\u001b[0m\n",
      "\u001b[1;32mc:\\users\\артём\\appdata\\local\\programs\\python\\python37-32\\lib\\site-packages\\pandas\\core\\frame.py\u001b[0m in \u001b[0;36m_set_item\u001b[1;34m(self, key, value)\u001b[0m\n\u001b[0;32m   3562\u001b[0m \u001b[1;33m\u001b[0m\u001b[0m\n\u001b[0;32m   3563\u001b[0m         \u001b[0mself\u001b[0m\u001b[1;33m.\u001b[0m\u001b[0m_ensure_valid_index\u001b[0m\u001b[1;33m(\u001b[0m\u001b[0mvalue\u001b[0m\u001b[1;33m)\u001b[0m\u001b[1;33m\u001b[0m\u001b[1;33m\u001b[0m\u001b[0m\n\u001b[1;32m-> 3564\u001b[1;33m         \u001b[0mvalue\u001b[0m \u001b[1;33m=\u001b[0m \u001b[0mself\u001b[0m\u001b[1;33m.\u001b[0m\u001b[0m_sanitize_column\u001b[0m\u001b[1;33m(\u001b[0m\u001b[0mkey\u001b[0m\u001b[1;33m,\u001b[0m \u001b[0mvalue\u001b[0m\u001b[1;33m)\u001b[0m\u001b[1;33m\u001b[0m\u001b[1;33m\u001b[0m\u001b[0m\n\u001b[0m\u001b[0;32m   3565\u001b[0m         \u001b[0mNDFrame\u001b[0m\u001b[1;33m.\u001b[0m\u001b[0m_set_item\u001b[0m\u001b[1;33m(\u001b[0m\u001b[0mself\u001b[0m\u001b[1;33m,\u001b[0m \u001b[0mkey\u001b[0m\u001b[1;33m,\u001b[0m \u001b[0mvalue\u001b[0m\u001b[1;33m)\u001b[0m\u001b[1;33m\u001b[0m\u001b[1;33m\u001b[0m\u001b[0m\n\u001b[0;32m   3566\u001b[0m \u001b[1;33m\u001b[0m\u001b[0m\n",
      "\u001b[1;32mc:\\users\\артём\\appdata\\local\\programs\\python\\python37-32\\lib\\site-packages\\pandas\\core\\frame.py\u001b[0m in \u001b[0;36m_sanitize_column\u001b[1;34m(self, key, value, broadcast)\u001b[0m\n\u001b[0;32m   3747\u001b[0m \u001b[1;33m\u001b[0m\u001b[0m\n\u001b[0;32m   3748\u001b[0m             \u001b[1;31m# turn me into an ndarray\u001b[0m\u001b[1;33m\u001b[0m\u001b[1;33m\u001b[0m\u001b[1;33m\u001b[0m\u001b[0m\n\u001b[1;32m-> 3749\u001b[1;33m             \u001b[0mvalue\u001b[0m \u001b[1;33m=\u001b[0m \u001b[0msanitize_index\u001b[0m\u001b[1;33m(\u001b[0m\u001b[0mvalue\u001b[0m\u001b[1;33m,\u001b[0m \u001b[0mself\u001b[0m\u001b[1;33m.\u001b[0m\u001b[0mindex\u001b[0m\u001b[1;33m,\u001b[0m \u001b[0mcopy\u001b[0m\u001b[1;33m=\u001b[0m\u001b[1;32mFalse\u001b[0m\u001b[1;33m)\u001b[0m\u001b[1;33m\u001b[0m\u001b[1;33m\u001b[0m\u001b[0m\n\u001b[0m\u001b[0;32m   3750\u001b[0m             \u001b[1;32mif\u001b[0m \u001b[1;32mnot\u001b[0m \u001b[0misinstance\u001b[0m\u001b[1;33m(\u001b[0m\u001b[0mvalue\u001b[0m\u001b[1;33m,\u001b[0m \u001b[1;33m(\u001b[0m\u001b[0mnp\u001b[0m\u001b[1;33m.\u001b[0m\u001b[0mndarray\u001b[0m\u001b[1;33m,\u001b[0m \u001b[0mIndex\u001b[0m\u001b[1;33m)\u001b[0m\u001b[1;33m)\u001b[0m\u001b[1;33m:\u001b[0m\u001b[1;33m\u001b[0m\u001b[1;33m\u001b[0m\u001b[0m\n\u001b[0;32m   3751\u001b[0m                 \u001b[1;32mif\u001b[0m \u001b[0misinstance\u001b[0m\u001b[1;33m(\u001b[0m\u001b[0mvalue\u001b[0m\u001b[1;33m,\u001b[0m \u001b[0mlist\u001b[0m\u001b[1;33m)\u001b[0m \u001b[1;32mand\u001b[0m \u001b[0mlen\u001b[0m\u001b[1;33m(\u001b[0m\u001b[0mvalue\u001b[0m\u001b[1;33m)\u001b[0m \u001b[1;33m>\u001b[0m \u001b[1;36m0\u001b[0m\u001b[1;33m:\u001b[0m\u001b[1;33m\u001b[0m\u001b[1;33m\u001b[0m\u001b[0m\n",
      "\u001b[1;32mc:\\users\\артём\\appdata\\local\\programs\\python\\python37-32\\lib\\site-packages\\pandas\\core\\internals\\construction.py\u001b[0m in \u001b[0;36msanitize_index\u001b[1;34m(data, index, copy)\u001b[0m\n\u001b[0;32m    610\u001b[0m \u001b[1;33m\u001b[0m\u001b[0m\n\u001b[0;32m    611\u001b[0m     \u001b[1;32mif\u001b[0m \u001b[0mlen\u001b[0m\u001b[1;33m(\u001b[0m\u001b[0mdata\u001b[0m\u001b[1;33m)\u001b[0m \u001b[1;33m!=\u001b[0m \u001b[0mlen\u001b[0m\u001b[1;33m(\u001b[0m\u001b[0mindex\u001b[0m\u001b[1;33m)\u001b[0m\u001b[1;33m:\u001b[0m\u001b[1;33m\u001b[0m\u001b[1;33m\u001b[0m\u001b[0m\n\u001b[1;32m--> 612\u001b[1;33m         \u001b[1;32mraise\u001b[0m \u001b[0mValueError\u001b[0m\u001b[1;33m(\u001b[0m\u001b[1;34m\"Length of values does not match length of index\"\u001b[0m\u001b[1;33m)\u001b[0m\u001b[1;33m\u001b[0m\u001b[1;33m\u001b[0m\u001b[0m\n\u001b[0m\u001b[0;32m    613\u001b[0m \u001b[1;33m\u001b[0m\u001b[0m\n\u001b[0;32m    614\u001b[0m     \u001b[1;32mif\u001b[0m \u001b[0misinstance\u001b[0m\u001b[1;33m(\u001b[0m\u001b[0mdata\u001b[0m\u001b[1;33m,\u001b[0m \u001b[0mABCIndexClass\u001b[0m\u001b[1;33m)\u001b[0m \u001b[1;32mand\u001b[0m \u001b[1;32mnot\u001b[0m \u001b[0mcopy\u001b[0m\u001b[1;33m:\u001b[0m\u001b[1;33m\u001b[0m\u001b[1;33m\u001b[0m\u001b[0m\n",
      "\u001b[1;31mValueError\u001b[0m: Length of values does not match length of index"
     ]
    }
   ],
   "source": [
    "#формируем предсказания для тестовой выборки, используя полученную выше модель\n",
    "preds = logreg_model.predict(X_test)\n",
    "\n",
    "#записываем результат\n",
    "\n",
    "sample['Survived'] = preds\n",
    "sample.to_csv('first_solution.csv', index=False)"
   ]
  },
  {
   "cell_type": "code",
   "execution_count": null,
   "metadata": {},
   "outputs": [],
   "source": []
  }
 ],
 "metadata": {
  "kernelspec": {
   "display_name": "Python 3",
   "language": "python",
   "name": "python3"
  },
  "language_info": {
   "codemirror_mode": {
    "name": "ipython",
    "version": 3
   },
   "file_extension": ".py",
   "mimetype": "text/x-python",
   "name": "python",
   "nbconvert_exporter": "python",
   "pygments_lexer": "ipython3",
   "version": "3.7.4"
  }
 },
 "nbformat": 4,
 "nbformat_minor": 2
}
